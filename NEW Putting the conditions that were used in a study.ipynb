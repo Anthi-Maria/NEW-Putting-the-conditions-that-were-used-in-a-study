{
 "cells": [
  {
   "cell_type": "code",
   "execution_count": 60,
   "id": "documented-rebound",
   "metadata": {},
   "outputs": [
    {
     "data": {
      "text/plain": [
       "<optlang.gurobi_interface.Model at 0x7f855a6ba730>"
      ]
     },
     "execution_count": 60,
     "metadata": {},
     "output_type": "execute_result"
    }
   ],
   "source": [
    "import numpy as np\n",
    "import pandas as pd\n",
    "import cobra.test\n",
    "import os\n",
    "\n",
    "from os.path import join\n",
    "\n",
    "from time import time\n",
    "\n",
    "\n",
    "from cobra.flux_analysis import (\n",
    "    single_gene_deletion, single_reaction_deletion, double_gene_deletion,\n",
    "    double_reaction_deletion)\n",
    "\n",
    "a = cobra.io.read_sbml_model(\"iEC1344_C.xml\")\n",
    "\n",
    "import cobra\n",
    "from cobra.test import create_test_model\n",
    "cobra_config = cobra.Configuration()\n",
    "cobra_config.solver = \"gurobi\"\n",
    "model = create_test_model(\"textbook\")\n",
    "model.solver"
   ]
  },
  {
   "cell_type": "code",
   "execution_count": 61,
   "id": "structural-ethiopia",
   "metadata": {},
   "outputs": [
    {
     "name": "stdout",
     "output_type": "stream",
     "text": [
      "[<Reaction EX_cm_e at 0x7f8559994190>, <Reaction EX_cmp_e at 0x7f855a466280>, <Reaction EX_co2_e at 0x7f855a466550>, <Reaction EX_cobalt2_e at 0x7f855a4665e0>, <Reaction EX_colipa_e at 0x7f855a4666d0>, <Reaction EX_colipap_e at 0x7f855a4667c0>, <Reaction EX_cpgn_e at 0x7f855a466760>, <Reaction EX_cpgn_un_e at 0x7f855a466850>, <Reaction EX_crn_e at 0x7f855a466910>, <Reaction EX_crn__D_e at 0x7f855a466520>, <Reaction EX_csn_e at 0x7f855a466af0>, <Reaction EX_glc__D_e at 0x7f855a466bb0>, <Reaction EX_glcn_e at 0x7f855a4669a0>, <Reaction EX_cu_e at 0x7f855a466eb0>, <Reaction EX_glcr_e at 0x7f855a466d30>, <Reaction EX_glcur_e at 0x7f855a466df0>, <Reaction EX_glcur1p_e at 0x7f855a466f40>, <Reaction EX_cu2_e at 0x7f855a466130>, <Reaction EX_gln__L_e at 0x7f855a466fd0>, <Reaction EX_glu__L_e at 0x7f855a496490>, <Reaction EX_cyan_e at 0x7f855a496730>, <Reaction EX_gly_e at 0x7f855a496a90>, <Reaction EX_glyald_e at 0x7f855a4968b0>, <Reaction EX_glyb_e at 0x7f855a496d30>, <Reaction EX_glyc_e at 0x7f855a496cd0>, <Reaction EX_glyc__R_e at 0x7f855a496070>, <Reaction EX_glyc2p_e at 0x7f855a496af0>, <Reaction EX_glyc3p_e at 0x7f855a496c10>, <Reaction EX_glyclt_e at 0x7f855a496f40>, <Reaction EX_gmp_e at 0x7f855a496f70>, <Reaction EX_gsn_e at 0x7f855a496970>, <Reaction EX_gthox_e at 0x7f855a491460>, <Reaction EX_gthrd_e at 0x7f855a491130>, <Reaction EX_gtp_e at 0x7f855a4910a0>, <Reaction EX_gua_e at 0x7f855a4917c0>, <Reaction EX_h_e at 0x7f855a4918b0>, <Reaction EX_h2_e at 0x7f855a491640>, <Reaction EX_h2o_e at 0x7f855a491ac0>, <Reaction EX_12ppd__R_e at 0x7f855a491f10>, <Reaction EX_12ppd__S_e at 0x7f855a491e50>, <Reaction EX_14glucan_e at 0x7f855a491b50>, <Reaction EX_15dap_e at 0x7f855a491580>, <Reaction EX_23camp_e at 0x7f855a46ff70>, <Reaction EX_23ccmp_e at 0x7f8576a56be0>, <Reaction EX_23cgmp_e at 0x7f855a491e20>, <Reaction EX_23cump_e at 0x7f855a491f40>, <Reaction EX_23dappa_e at 0x7f8576a60670>, <Reaction EX_26dap__M_e at 0x7f8576a604c0>, <Reaction EX_2ddglcn_e at 0x7f8576a60580>, <Reaction EX_h2o2_e at 0x7f8576a607f0>, <Reaction EX_h2s_e at 0x7f8576a60610>, <Reaction EX_hacolipa_e at 0x7f8576a60a30>, <Reaction EX_halipa_e at 0x7f8576a60a60>, <Reaction EX_hdca_e at 0x7f8576a60d60>, <Reaction EX_34dhpac_e at 0x7f8576a60ca0>, <Reaction EX_3amp_e at 0x7f8576a60be0>, <Reaction EX_hdcea_e at 0x7f8576a60e20>, <Reaction EX_3cmp_e at 0x7f8576a60f70>, <Reaction EX_cynt_e at 0x7f8576a60c40>, <Reaction EX_3gmp_e at 0x7f8576a609a0>, <Reaction EX_3hcinnm_e at 0x7f8576a3d2e0>, <Reaction EX_3hpp_e at 0x7f8576a3d490>, <Reaction EX_3hpppn_e at 0x7f8576a3d190>, <Reaction EX_3ump_e at 0x7f8576a3d3d0>, <Reaction EX_4abut_e at 0x7f8576a3d610>, <Reaction EX_hg2_e at 0x7f8576a3d8e0>, <Reaction EX_his__L_e at 0x7f8576a3d640>, <Reaction EX_hom__L_e at 0x7f8576a3d700>, <Reaction EX_hxa_e at 0x7f8576a3db80>, <Reaction EX_hxan_e at 0x7f8576a3dca0>, <Reaction EX_4hoxpacd_e at 0x7f8576a3da30>, <Reaction EX_5dglcn_e at 0x7f8576a3d070>, <Reaction EX_5mtr_e at 0x7f8576a3daf0>, <Reaction EX_LalaDglu_e at 0x7f8576a3ddc0>, <Reaction EX_cys__D_e at 0x7f8576a3d580>, <Reaction EX_LalaDgluMdap_e at 0x7f8576a3dee0>, <Reaction EX_cys__L_e at 0x7f8576a3dfa0>, <Reaction EX_LalaDgluMdapDala_e at 0x7f8576a3df70>, <Reaction EX_cytd_e at 0x7f8576a3d4c0>, <Reaction EX_LalaLglu_e at 0x7f8576a6d430>, <Reaction EX_ac_e at 0x7f8576a6d1f0>, <Reaction EX_idon__L_e at 0x7f8576a6d520>, <Reaction EX_ile__L_e at 0x7f8576a6d820>, <Reaction EX_dad_2_e at 0x7f8576a6d910>, <Reaction EX_imp_e at 0x7f8576a6d6a0>, <Reaction EX_indole_e at 0x7f8576a6da60>, <Reaction EX_acac_e at 0x7f8576a6d6d0>, <Reaction EX_acald_e at 0x7f8576a6dd00>, <Reaction EX_acgal_e at 0x7f8576a6d9a0>, <Reaction EX_inost_e at 0x7f8576a6daf0>, <Reaction EX_damp_e at 0x7f8576a6de50>, <Reaction EX_ins_e at 0x7f8576a6d8b0>, <Reaction EX_isetac_e at 0x7f8576a6dee0>, <Reaction EX_acgal1p_e at 0x7f8576a6df10>, <Reaction EX_acgam_e at 0x7f8576a6d5e0>, <Reaction EX_k_e at 0x7f8576a6dca0>, <Reaction EX_acgam1p_e at 0x7f8576a6a2b0>, <Reaction EX_acmana_e at 0x7f8576a6a490>, <Reaction EX_acmum_e at 0x7f8576a6a3a0>, <Reaction EX_acnam_e at 0x7f8576a6a790>, <Reaction EX_kdo2lipid4_e at 0x7f8576a6a460>, <Reaction EX_lac__D_e at 0x7f8576a6a040>, <Reaction EX_lac__L_e at 0x7f8576a6a610>, <Reaction EX_acolipa_e at 0x7f8576a6a820>, <Reaction EX_lcts_e at 0x7f8576a6a5e0>, <Reaction EX_acser_e at 0x7f8576a6ab80>, <Reaction EX_dca_e at 0x7f8576a6ab20>, <Reaction EX_ade_e at 0x7f8576a6ad90>, <Reaction EX_adn_e at 0x7f8576a6a550>, <Reaction EX_adocbl_e at 0x7f8576a6aa60>, <Reaction EX_leu__L_e at 0x7f8576a6af40>, <Reaction EX_lipa_e at 0x7f8576a6aee0>, <Reaction EX_lipa_cold_e at 0x7f8576a6afa0>, <Reaction EX_ag_e at 0x7f8576a6ac40>, <Reaction EX_dcmp_e at 0x7f8576a6a670>, <Reaction EX_agm_e at 0x7f85776f1460>, <Reaction EX_lipoate_e at 0x7f85776f1130>, <Reaction EX_dcyt_e at 0x7f85776f1070>, <Reaction EX_lys__L_e at 0x7f85776f1430>, <Reaction EX_lyx__L_e at 0x7f85776f1520>, <Reaction EX_akg_e at 0x7f85776f16d0>, <Reaction EX_ala_B_e at 0x7f85776f1910>, <Reaction EX_ala__D_e at 0x7f85776f1850>, <Reaction EX_mal__D_e at 0x7f85776f16a0>, <Reaction EX_ala__L_e at 0x7f85776f1a00>, <Reaction EX_mal__L_e at 0x7f85776f1df0>, <Reaction EX_ddca_e at 0x7f85776f1ee0>, <Reaction EX_malt_e at 0x7f85776f1d90>, <Reaction EX_malthx_e at 0x7f85776f19a0>, <Reaction EX_alaala_e at 0x7f85776f1f40>, <Reaction EX_all__D_e at 0x7f85776f1f70>, <Reaction EX_alltn_e at 0x7f85776f1b80>, <Reaction EX_maltpt_e at 0x7f85776f1d30>, <Reaction EX_dgmp_e at 0x7f85776d6250>, <Reaction EX_malttr_e at 0x7f85776d6160>, <Reaction EX_maltttr_e at 0x7f85776d6700>, <Reaction EX_man_e at 0x7f85776d6430>, <Reaction EX_man6p_e at 0x7f85776d64f0>, <Reaction EX_manglyc_e at 0x7f85776d6310>, <Reaction EX_amp_e at 0x7f85776d6790>, <Reaction EX_anhgm_e at 0x7f85776d6670>, <Reaction EX_arab__L_e at 0x7f85776d6520>, <Reaction EX_arbt_e at 0x7f85776d6b80>, <Reaction EX_arbtn_e at 0x7f85776d6a90>, <Reaction EX_melib_e at 0x7f85776d6850>, <Reaction EX_meoh_e at 0x7f85776d6be0>, <Reaction EX_arbtn_fe3_e at 0x7f85776d6dc0>, <Reaction EX_met__D_e at 0x7f85776d6a30>, <Reaction EX_arg__L_e at 0x7f85776d6ee0>, <Reaction EX_dgsn_e at 0x7f85776d6fa0>, <Reaction EX_ascb__L_e at 0x7f85776d6e20>, <Reaction EX_asn__L_e at 0x7f85776d6910>, <Reaction EX_aso3_e at 0x7f85776d1c40>, <Reaction EX_met__L_e at 0x7f85776d1dc0>, <Reaction EX_metsox_R__L_e at 0x7f85776d1910>, <Reaction EX_metsox_S__L_e at 0x7f85776d1fa0>, <Reaction EX_mg2_e at 0x7f85776d17f0>, <Reaction EX_mincyc_e at 0x7f85776d1b50>, <Reaction EX_asp__L_e at 0x7f85776d16d0>, <Reaction EX_btn_e at 0x7f85776d10a0>, <Reaction EX_dha_e at 0x7f85776d1bb0>, <Reaction EX_but_e at 0x7f85776d1790>, <Reaction EX_minohp_e at 0x7f85776d1df0>, <Reaction EX_mmet_e at 0x7f85776d1280>, <Reaction EX_mn2_e at 0x7f85776d1160>, <Reaction EX_butso3_e at 0x7f85776d1880>, <Reaction EX_dimp_e at 0x7f85776d1430>, <Reaction EX_ca2_e at 0x7f85776d1070>, <Reaction EX_cbi_e at 0x7f85776d12b0>, <Reaction EX_mnl_e at 0x7f85776df490>, <Reaction EX_mobd_e at 0x7f85776df280>, <Reaction EX_mso3_e at 0x7f85776df520>, <Reaction EX_din_e at 0x7f85776df820>, <Reaction EX_n2o_e at 0x7f85776df670>, <Reaction EX_na1_e at 0x7f85776df9d0>, <Reaction EX_nac_e at 0x7f85776df6a0>, <Reaction EX_nh4_e at 0x7f85776df4f0>, <Reaction EX_cbl1_e at 0x7f85776dfc40>, <Reaction EX_cd2_e at 0x7f85776dfd60>, <Reaction EX_cgly_e at 0x7f85776df3d0>, <Reaction EX_chol_e at 0x7f85776dfeb0>, <Reaction EX_chtbs_e at 0x7f85776dfb20>, <Reaction EX_cit_e at 0x7f85776df5e0>, <Reaction EX_cl_e at 0x7f85776dfee0>, <Reaction EX_ni2_e at 0x7f85776dffa0>, <Reaction EX_nmn_e at 0x7f85776dffd0>, <Reaction EX_dms_e at 0x7f85776e7550>, <Reaction EX_no_e at 0x7f85776e71c0>, <Reaction EX_no2_e at 0x7f85776e7760>, <Reaction EX_dmso_e at 0x7f85776e75e0>, <Reaction EX_no3_e at 0x7f85776e7970>, <Reaction EX_novbcn_e at 0x7f85776e7370>, <Reaction EX_dopa_e at 0x7f85776e7b50>, <Reaction EX_o16a4colipa_e at 0x7f85776e7c40>, <Reaction EX_doxrbcn_e at 0x7f85776e76a0>, <Reaction EX_o2_e at 0x7f85776e7cd0>, <Reaction EX_o2s_e at 0x7f85776e76d0>, <Reaction EX_val__L_e at 0x7f85776e7ee0>, <Reaction EX_dtmp_e at 0x7f85776e7be0>, <Reaction EX_xan_e at 0x7f85776e7f70>, <Reaction EX_ocdca_e at 0x7f85776e7e50>, <Reaction EX_ocdcea_e at 0x7f85776e7490>, <Reaction EX_octa_e at 0x7f85776e7a00>, <Reaction EX_xmp_e at 0x7f85776bb580>, <Reaction EX_xtsn_e at 0x7f85776bb6a0>, <Reaction EX_orn_e at 0x7f85776bb430>, <Reaction EX_dump_e at 0x7f85776bb610>, <Reaction EX_orot_e at 0x7f85776bb8b0>, <Reaction EX_pacald_e at 0x7f85776bb310>, <Reaction EX_xyl__D_e at 0x7f85776bb820>, <Reaction EX_xylu__L_e at 0x7f85776bbc10>, <Reaction EX_zn2_e at 0x7f85776bbd00>, <Reaction EX_peamn_e at 0x7f85776bbf40>, <Reaction EX_phe__L_e at 0x7f85776bbf70>, <Reaction EX_pheme_e at 0x7f85776bbb50>, <Reaction EX_pi_e at 0x7f85776bbe80>, <Reaction EX_pnto__R_e at 0x7f85776ca760>, <Reaction EX_ppa_e at 0x7f85776ca430>, <Reaction EX_ppal_e at 0x7f85776ca6d0>, <Reaction EX_pppn_e at 0x7f85776cad90>, <Reaction EX_duri_e at 0x7f85776cab80>, <Reaction EX_ppt_e at 0x7f85776cafa0>, <Reaction EX_pro__L_e at 0x7f85776cae50>, <Reaction EX_progly_e at 0x7f85776cab20>, <Reaction EX_psclys_e at 0x7f85776c5b20>, <Reaction EX_eca4colipa_e at 0x7f85776c59a0>, <Reaction EX_pser__L_e at 0x7f85776c5d60>, <Reaction EX_ptrc_e at 0x7f85776c5160>, <Reaction EX_pydam_e at 0x7f85776c5df0>, <Reaction EX_pydx_e at 0x7f8559ea4f70>, <Reaction EX_pydxn_e at 0x7f8559ea4ee0>, <Reaction EX_pyr_e at 0x7f8559ea45e0>, <Reaction EX_quin_e at 0x7f8559ea4e80>, <Reaction EX_r5p_e at 0x7f8559ea4fd0>, <Reaction EX_rfamp_e at 0x7f8559ea4f40>, <Reaction EX_rib__D_e at 0x7f8559ea4100>, <Reaction EX_rmn_e at 0x7f8559ea4820>, <Reaction EX_enlipa_e at 0x7f8559ea4b20>, <Reaction EX_sbt__D_e at 0x7f8559ee0c40>, <Reaction EX_sel_e at 0x7f8559ee0fa0>, <Reaction EX_ser__D_e at 0x7f8559ee0ac0>, <Reaction EX_ser__L_e at 0x7f8559ee0f40>, <Reaction EX_enter_e at 0x7f8559ee0d00>, <Reaction EX_skm_e at 0x7f8559eab610>, <Reaction EX_slnt_e at 0x7f8559eab8e0>, <Reaction EX_etha_e at 0x7f8559eabd00>, <Reaction EX_so2_e at 0x7f8559ecb400>, <Reaction EX_so3_e at 0x7f8559eabb80>, <Reaction EX_ethso3_e at 0x7f8559eab6a0>, <Reaction EX_so4_e at 0x7f8559ecb5e0>, <Reaction EX_spmd_e at 0x7f8559ecbca0>, <Reaction EX_succ_e at 0x7f8559ecbfa0>, <Reaction EX_sucr_e at 0x7f8559ecbe80>, <Reaction EX_sulfac_e at 0x7f8559ecbf70>, <Reaction EX_etoh_e at 0x7f8559ecb940>, <Reaction EX_tartr__D_e at 0x7f8559ecbd00>, <Reaction EX_tartr__L_e at 0x7f8559ecb640>, <Reaction EX_f6p_e at 0x7f8559ecbee0>, <Reaction EX_taur_e at 0x7f8559ebc040>, <Reaction EX_tcynt_e at 0x7f8559ebc730>, <Reaction EX_thm_e at 0x7f8559ebc2b0>, <Reaction EX_thr__L_e at 0x7f8559ebcbe0>, <Reaction EX_fald_e at 0x7f8559ebc670>, <Reaction EX_thrp_e at 0x7f8559ebc130>, <Reaction EX_thym_e at 0x7f8559ebcdc0>, <Reaction EX_thymd_e at 0x7f8559ebcf40>, <Reaction EX_fe2_e at 0x7f8559ecb3d0>, <Reaction EX_tma_e at 0x7f8559ebcf70>, <Reaction EX_tmao_e at 0x7f8559ebc6d0>, <Reaction EX_fe3_e at 0x7f855962ef10>, <Reaction EX_tre_e at 0x7f855962eeb0>, <Reaction EX_trp__L_e at 0x7f855962e970>, <Reaction EX_tsul_e at 0x7f855962ee20>, <Reaction EX_ttdca_e at 0x7f85596223d0>, <Reaction EX_ttdcea_e at 0x7f855962e640>, <Reaction EX_ttrcyc_e at 0x7f8559622430>, <Reaction EX_tungs_e at 0x7f8559628e80>, <Reaction EX_tym_e at 0x7f8559628f10>, <Reaction EX_fe3dcit_e at 0x7f8559628be0>, <Reaction EX_tyr__L_e at 0x7f8559628f70>, <Reaction EX_tyrp_e at 0x7f85596280a0>, <Reaction EX_uacgam_e at 0x7f8559628bb0>, <Reaction EX_udpacgal_e at 0x7f855964e520>, <Reaction EX_udpg_e at 0x7f8559628c70>, <Reaction EX_udpgal_e at 0x7f855964ee50>, <Reaction EX_fe3dhbzs_e at 0x7f8559628f40>, <Reaction EX_udpglcur_e at 0x7f855964ec70>, <Reaction EX_ump_e at 0x7f855962d520>, <Reaction EX_ura_e at 0x7f855962dcd0>, <Reaction EX_fe3hox_e at 0x7f855964e7c0>, <Reaction EX_urea_e at 0x7f855962d3a0>, <Reaction EX_uri_e at 0x7f855964e820>, <Reaction EX_fe3hox_un_e at 0x7f8577622670>, <Reaction EX_fecrm_e at 0x7f8577622310>, <Reaction EX_fecrm_un_e at 0x7f85776229d0>, <Reaction EX_feenter_e at 0x7f8577622370>, <Reaction EX_feoxam_e at 0x7f8577622b20>, <Reaction EX_feoxam_un_e at 0x7f8577622ac0>, <Reaction EX_for_e at 0x7f8577622760>, <Reaction EX_fru_e at 0x7f85776225e0>, <Reaction EX_frulys_e at 0x7f8577622610>, <Reaction EX_fruur_e at 0x7f8577632af0>, <Reaction EX_fuc__L_e at 0x7f8577632dc0>, <Reaction EX_fum_e at 0x7f85775f86a0>, <Reaction EX_fusa_e at 0x7f8577057f70>, <Reaction EX_g1p_e at 0x7f8577057640>, <Reaction EX_g3pc_e at 0x7f8577066700>, <Reaction EX_g3pe_e at 0x7f8577072f10>, <Reaction EX_g3pg_e at 0x7f8577c6fee0>, <Reaction EX_g3pi_e at 0x7f8577c64ac0>, <Reaction EX_g3ps_e at 0x7f8577ab6790>, <Reaction EX_g6p_e at 0x7f8577ab60d0>, <Reaction EX_gal_e at 0x7f8577ad9880>, <Reaction EX_gal_bD_e at 0x7f8577ac1d60>, <Reaction EX_gal1p_e at 0x7f8577ac16d0>, <Reaction EX_galct__D_e at 0x7f8577ac1d00>, <Reaction EX_galctn__D_e at 0x7f8577ac6df0>, <Reaction EX_galctn__L_e at 0x7f85598edf10>, <Reaction EX_galt_e at 0x7f855990af10>, <Reaction EX_galur_e at 0x7f855990afd0>, <Reaction EX_gam_e at 0x7f85598f9d60>, <Reaction EX_gam6p_e at 0x7f8558b9b040>, <Reaction EX_gbbtn_e at 0x7f85598f9fd0>, <Reaction EX_gdp_e at 0x7f8558b9cb50>, <Reaction HEX1 at 0x7f8576922d00>, <Reaction HEX4 at 0x7f8576922be0>, <Reaction HEX7 at 0x7f8576922ee0>, <Reaction HEXt2rpp at 0x7f8576904d00>, <Reaction EX_3hoxpac_e at 0x7f855961b460>, <Reaction EX_3ntym_e at 0x7f855961b220>, <Reaction EX_4hoxpac_e at 0x7f855961b3a0>, <Reaction EX_6apa_e at 0x7f855961b1f0>, <Reaction EX_cellb_e at 0x7f855960eb50>, <Reaction EX_galam_e at 0x7f855960e130>, <Reaction EX_lipidA_core_e at 0x7f855960ed30>, <Reaction EX_o6a4colipa_e at 0x7f855960c460>, <Reaction EX_peng_e at 0x7f855960c070>, <Reaction EX_raffin_e at 0x7f8577d9fe80>, <Reaction EX_salcn_e at 0x7f8577da54f0>, <Reaction EX_arab__D_e at 0x7f855a56f220>]\n"
     ]
    }
   ],
   "source": [
    "pd.read_csv(\"dictionary.csv\")\n",
    "\n",
    "\n",
    "EX_reactions_list = [x for x in a.reactions if 'EX' in x.id]\n",
    "print(EX_reactions_list)"
   ]
  },
  {
   "cell_type": "code",
   "execution_count": 62,
   "id": "confirmed-rabbit",
   "metadata": {},
   "outputs": [
    {
     "data": {
      "text/plain": [
       "340"
      ]
     },
     "execution_count": 62,
     "metadata": {},
     "output_type": "execute_result"
    }
   ],
   "source": [
    "len(EX_reactions_list)"
   ]
  },
  {
   "cell_type": "code",
   "execution_count": 63,
   "id": "polished-thread",
   "metadata": {},
   "outputs": [
    {
     "name": "stdout",
     "output_type": "stream",
     "text": [
      "0\n",
      "0\n",
      "0\n",
      "0\n",
      "0\n",
      "0\n",
      "0\n",
      "0\n",
      "0\n",
      "0\n",
      "0\n",
      "0\n",
      "0\n",
      "0\n",
      "0\n",
      "0\n",
      "0\n",
      "0\n",
      "0\n",
      "0\n",
      "0\n",
      "0\n",
      "0\n",
      "0\n",
      "0\n",
      "0\n",
      "0\n",
      "0\n",
      "0\n",
      "0\n",
      "0\n",
      "0\n",
      "0\n",
      "0\n",
      "0\n",
      "0\n",
      "0\n",
      "0\n",
      "0\n",
      "0\n"
     ]
    }
   ],
   "source": [
    "i=0\n",
    "\n",
    "while i < 20 :\n",
    "    a.reactions.get_by_id(EX_reactions_list[i].id).lower_bound = a.reactions.get_by_id(EX_reactions_list[i].id).upper_bound = 0\n",
    "    print(a.reactions.get_by_id(EX_reactions_list[i].id).lower_bound)\n",
    "    print(a.reactions.get_by_id(EX_reactions_list[i].id).upper_bound)\n",
    "    \n",
    "    i = i + 1\n"
   ]
  },
  {
   "cell_type": "code",
   "execution_count": 64,
   "id": "amateur-vulnerability",
   "metadata": {},
   "outputs": [],
   "source": [
    "a.reactions.EX_ca2_e.lower_bound=-1000\n",
    "a.reactions.EX_nh4_e.lower_bound=-1000\n",
    "a.reactions.EX_na1_e.lower_bound=-1000\n",
    "a.reactions.EX_o2_e.lower_bound=-1000\n",
    "a.reactions.EX_pi_e.lower_bound=-1000\n",
    "a.reactions.EX_so4_e.lower_bound=-1000\n",
    "a.reactions.EX_fe2_e.lower_bound=-1000\n",
    "a.reactions.EX_h2o_e.lower_bound=-1000\n",
    "a.reactions.EX_h_e.lower_bound=-1000\n",
    "a.reactions.EX_k_e.lower_bound=-1000\n",
    "a.reactions.EX_cl_e.lower_bound=-1000\n",
    "a.reactions.EX_mg2_e.lower_bound=-1000\n",
    "\n",
    "a.reactions.EX_ca2_e.upper_bound= 1000\n",
    "a.reactions.EX_nh4_e.upper_bound= 1000\n",
    "a.reactions.EX_na1_e.upper_bound= 1000\n",
    "a.reactions.EX_o2_e.upper_bound= 1000\n",
    "a.reactions.EX_pi_e.upper_bound= 1000\n",
    "a.reactions.EX_so4_e.upper_bound= 1000\n",
    "a.reactions.EX_fe2_e.upper_bound= 1000\n",
    "a.reactions.EX_h2o_e.upper_bound= 1000\n",
    "a.reactions.EX_h_e.upper_bound= 1000\n",
    "a.reactions.EX_k_e.upper_bound= 1000\n",
    "a.reactions.EX_cl_e.upper_bound= 1000\n",
    "a.reactions.EX_mg2_e.upper_bound= 1000\n"
   ]
  },
  {
   "cell_type": "code",
   "execution_count": 55,
   "id": "sophisticated-politics",
   "metadata": {},
   "outputs": [],
   "source": [
    "a.reactions.EX_ca2_e.lower_bound=-1000\n",
    "a.reactions.EX_nh4_e.lower_bound=-1000\n",
    "a.reactions.EX_na1_e.lower_bound=-1000\n",
    "a.reactions.EX_o2_e.lower_bound=-1000\n",
    "a.reactions.EX_pi_e.lower_bound=-1000\n",
    "a.reactions.EX_so4_e.lower_bound=-1000\n",
    "a.reactions.EX_fe2_e.lower_bound=-1000\n",
    "a.reactions.EX_h2o_e.lower_bound=-1000\n",
    "a.reactions.EX_h_e.lower_bound=-1000\n",
    "a.reactions.EX_k_e.lower_bound=-1000\n",
    "a.reactions.EX_cl_e.lower_bound=-1000\n",
    "a.reactions.EX_mg2_e.lower_bound=-1000\n",
    "a.reactions.EX_mn2_e.lower_bound=-1000\n",
    "a.reactions.EX_glc__D_e.lower_bound=-10\n",
    "a.reactions.EX_co2_e.lower_bound=-1000\n",
    "a.reactions.EX_glyc_e.lower_bound= 0\n",
    "a.reactions.EX_lcts_e.lower_bound= 0\n",
    "a.reactions.EX_zn2_e.lower_bound= -1000\n",
    "a.reactions.EX_cobalt2_e.lower_bound= -1000\n",
    "a.reactions.EX_glcn_e.lower_bound= -1000\n",
    "a.reactions.EX_cu2_e.lower_bound= -1000\n",
    "a.reactions.EX_ni2_e.lower_bound= -1000\n",
    "a.reactions.EX_fru_e.lower_bound= -1000\n",
    "\n",
    "\n",
    "a.reactions.EX_glyc_e.upper_bound= 1000\n",
    "a.reactions.EX_ca2_e.upper_bound= 1000\n",
    "a.reactions.EX_nh4_e.upper_bound= 1000\n",
    "a.reactions.EX_na1_e.upper_bound= 1000\n",
    "a.reactions.EX_o2_e.upper_bound= 1000\n",
    "a.reactions.EX_pi_e.upper_bound= 1000\n",
    "a.reactions.EX_so4_e.upper_bound= 1000\n",
    "a.reactions.EX_fe2_e.upper_bound= 1000\n",
    "a.reactions.EX_h2o_e.upper_bound= 1000\n",
    "a.reactions.EX_h_e.upper_bound= 1000\n",
    "a.reactions.EX_k_e.upper_bound= 1000\n",
    "a.reactions.EX_cl_e.upper_bound= 1000\n",
    "a.reactions.EX_mg2_e.upper_bound= 1000\n",
    "a.reactions.EX_mn2_e.upper_bound= 1000\n",
    "a.reactions.EX_glc__D_e.upper_bound= 1000\n",
    "a.reactions.EX_co2_e.upper_bound= 1000\n",
    "a.reactions.EX_lcts_e.upper_bound= 1000\n",
    "a.reactions.EX_zn2_e.upper_bound= 1000\n",
    "a.reactions.EX_cobalt2_e.upper_bound= 1000\n",
    "a.reactions.EX_glcn_e.upper_bound= 1000\n",
    "a.reactions.EX_cu2_e.upper_bound= 1000\n",
    "a.reactions.EX_ni2_e.upper_bound= 1000\n",
    "a.reactions.EX_fru_e.upper_bound= 1000"
   ]
  },
  {
   "cell_type": "code",
   "execution_count": 8,
   "id": "numerous-arnold",
   "metadata": {},
   "outputs": [
    {
     "data": {
      "text/html": [
       "\n",
       "        <table>\n",
       "            <tr>\n",
       "                <td><strong>Reaction identifier</strong></td><td>BIOMASS_Ec_iJO1366_core_53p95M</td>\n",
       "            </tr><tr>\n",
       "                <td><strong>Name</strong></td><td>E. coli biomass objective function (iJO1366) - core - with 53.95 GAM estimate</td>\n",
       "            </tr><tr>\n",
       "                <td><strong>Memory address</strong></td>\n",
       "                <td>0x07f855bf7be20</td>\n",
       "            </tr><tr>\n",
       "                <td><strong>Stoichiometry</strong></td>\n",
       "                <td>\n",
       "                    <p style='text-align:right'>0.000223 10fthf_c + 2.6e-05 2fe2s_c + 0.000223 2ohph_c + 0.00026 4fe4s_c + 0.513689 ala__L_c + 0.000223 amet_c + 0.295792 arg__L_c + 0.241055 asn__L_c + 0.241055 asp__L_c + 54.124831 atp_c +...</p>\n",
       "                    <p style='text-align:right'>0.000223 10-Formyltetrahydrofolate + 2.6e-05 [2Fe-2S] iron-sulfur cluster + 0.000223 2-Octaprenyl-6-hydroxyphenol + 0.00026 [4Fe-4S] iron-sulfur cluster + 0.513689 L-Alanine + 0.000223 S-Adenosyl-...</p>\n",
       "                </td>\n",
       "            </tr><tr>\n",
       "                <td><strong>GPR</strong></td><td></td>\n",
       "            </tr><tr>\n",
       "                <td><strong>Lower bound</strong></td><td>0.0</td>\n",
       "            </tr><tr>\n",
       "                <td><strong>Upper bound</strong></td><td>1000.0</td>\n",
       "            </tr>\n",
       "        </table>\n",
       "        "
      ],
      "text/plain": [
       "<Reaction BIOMASS_Ec_iJO1366_core_53p95M at 0x7f855bf7be20>"
      ]
     },
     "execution_count": 8,
     "metadata": {},
     "output_type": "execute_result"
    }
   ],
   "source": [
    "a.reactions.BIOMASS_Ec_iJO1366_core_53p95M"
   ]
  },
  {
   "cell_type": "code",
   "execution_count": 65,
   "id": "similar-stake",
   "metadata": {},
   "outputs": [],
   "source": [
    "solution = a.optimize()\n",
    "solution.objective_value"
   ]
  },
  {
   "cell_type": "code",
   "execution_count": 66,
   "id": "french-bonus",
   "metadata": {},
   "outputs": [],
   "source": [
    "a.reactions.EX_cellb_e.lower_bound= a.reactions.EX_cellb_e.upper_bound= 100\n",
    "\n",
    "solution = a.optimize()\n",
    "solution.objective_value"
   ]
  },
  {
   "cell_type": "code",
   "execution_count": null,
   "id": "crude-chick",
   "metadata": {},
   "outputs": [],
   "source": [
    "a.reactions.EX_glyc_e.lower_bound= 0\n",
    "a.reactions.EX_glyc_e.upper_bound= 1000\n",
    "\n",
    "a.reactions.EX_lcts_e.lower_bound= 0\n",
    "a.reactions.EX_lcts_e.upper_bound= 1000"
   ]
  }
 ],
 "metadata": {
  "kernelspec": {
   "display_name": "Python 3",
   "language": "python",
   "name": "python3"
  },
  "language_info": {
   "codemirror_mode": {
    "name": "ipython",
    "version": 3
   },
   "file_extension": ".py",
   "mimetype": "text/x-python",
   "name": "python",
   "nbconvert_exporter": "python",
   "pygments_lexer": "ipython3",
   "version": "3.8.3"
  }
 },
 "nbformat": 4,
 "nbformat_minor": 5
}
